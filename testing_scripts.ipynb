{
 "cells": [
  {
   "cell_type": "code",
   "execution_count": 7,
   "id": "initial_id",
   "metadata": {
    "collapsed": true,
    "ExecuteTime": {
     "end_time": "2024-02-27T18:09:18.768353Z",
     "start_time": "2024-02-27T18:09:18.762003Z"
    }
   },
   "outputs": [],
   "source": [
    "import tensorflow as tf\n",
    "import os\n",
    "import numpy as np\n",
    "import matplotlib.pyplot as plt\n",
    "import image_to_train as tr\n",
    "from model import get_model\n",
    "import test_func as test"
   ]
  },
  {
   "cell_type": "markdown",
   "source": [
    "# Test Model on the Urban100 Dataset"
   ],
   "metadata": {
    "collapsed": false
   },
   "id": "d88487807c570393"
  },
  {
   "cell_type": "code",
   "outputs": [],
   "source": [
    "# Run this script when preprocessing Urban100 dataset\n",
    "ds_path = os.path.join('Urban 100', 'X2 Urban100', 'X2')\n",
    "HR_path = os.path.join(ds_path, 'HIGH X2 Urban')\n",
    "LR_path = os.path.join(ds_path, 'LOW X2 Urban')\n",
    "\n",
    "files_Y = sorted([os.path.join(HR_path, filename) for filename in os.listdir(HR_path)])\n",
    "files_X = sorted([os.path.join(LR_path, filename) for filename in os.listdir(LR_path)])\n",
    "\n",
    "files_Y = tf.convert_to_tensor(files_Y, tf.string)\n",
    "files_X = tf.convert_to_tensor(files_X, tf.string)\n",
    "\n",
    "def map_func(file):\n",
    "    image = tf.io.read_file(file)\n",
    "    image = tf.image.decode_image(image, channels=3)\n",
    "    image = tf.image.convert_image_dtype(image, tf.float32)\n",
    "    image = tr.to_luminance(image)                          # remove if you are going to compare the colored images\n",
    "    return tf.squeeze(image)\n",
    "\n",
    "Y = [tf.expand_dims(map_func(im), axis=-1) for im in files_Y]\n",
    "X_sub = [tf.image.decode_image(tf.io.read_file(x), dtype=tf.float32) for x in files_X]\n",
    "X_sub = [tr.preprocess_single_image(x, channel_last=True, batch_dimension=True) for x in X_sub]"
   ],
   "metadata": {
    "collapsed": false,
    "ExecuteTime": {
     "end_time": "2024-02-27T18:09:21.161729Z",
     "start_time": "2024-02-27T18:09:19.102491Z"
    }
   },
   "id": "a56c3f63c34bd07c",
   "execution_count": 8
  },
  {
   "cell_type": "code",
   "outputs": [
    {
     "data": {
      "text/plain": "<tensorflow.python.checkpoint.checkpoint.CheckpointLoadStatus at 0x24b525c60>"
     },
     "execution_count": 9,
     "metadata": {},
     "output_type": "execute_result"
    }
   ],
   "source": [
    "# load self-trained weights\n",
    "test_model = get_model()\n",
    "test_model.load_weights(os.path.join('saved_weights', 'exp', '240'))"
   ],
   "metadata": {
    "collapsed": false,
    "ExecuteTime": {
     "end_time": "2024-02-27T18:09:21.257596Z",
     "start_time": "2024-02-27T18:09:21.166757Z"
    }
   },
   "id": "8a73e6d3b9aedfd2",
   "execution_count": 9
  },
  {
   "cell_type": "code",
   "outputs": [
    {
     "name": "stdout",
     "output_type": "stream",
     "text": [
      "psnr score for trained model: 27.240066528320312 \n",
      "ssim score for trained model: 0.8813284039497375\n"
     ]
    }
   ],
   "source": [
    "pred_ims = []\n",
    "ssim_scores = []\n",
    "psnr_scores = []\n",
    "\n",
    "for x in X_sub:\n",
    "    y_pred = test_model(x)\n",
    "    pred_ims.append(tf.expand_dims(tr.bands_to_image(x+y_pred), axis=-1))\n",
    "    \n",
    "for x, y in zip(pred_ims, Y):\n",
    "    ssim_scores.append(tf.image.ssim(x, y, max_val=1.0))\n",
    "    psnr_scores.append(tf.image.psnr(x, y, max_val=1.0))\n",
    "\n",
    "avg_ssim_score = sum(ssim_scores) / len(ssim_scores)\n",
    "avg_psnr_score = sum(psnr_scores) / len(psnr_scores)\n",
    "print('psnr score for trained model: {} \\nssim score for trained model: {}'.format(avg_psnr_score, avg_ssim_score))"
   ],
   "metadata": {
    "collapsed": false,
    "ExecuteTime": {
     "end_time": "2024-02-27T18:09:26.075240Z",
     "start_time": "2024-02-27T18:09:21.257550Z"
    }
   },
   "id": "72ec11437aca85d6",
   "execution_count": 10
  },
  {
   "cell_type": "markdown",
   "source": [
    "# Comparing with the Base_x2 Model (Model Used in Paper)"
   ],
   "metadata": {
    "collapsed": false
   },
   "id": "10a413a67eeb6d51"
  },
  {
   "cell_type": "code",
   "outputs": [],
   "source": [
    "# load weights trained by the author\n",
    "x2_weight_path = os.path.join('saved_weights', 'Weightx2', 'x2.ckpt')\n",
    "model = get_model()\n",
    "x2_model = test.load_x2_from_weights(model, x2_weight_path)"
   ],
   "metadata": {
    "collapsed": false,
    "ExecuteTime": {
     "end_time": "2024-02-27T18:09:26.147193Z",
     "start_time": "2024-02-27T18:09:26.076990Z"
    }
   },
   "id": "594895c0c55492d1",
   "execution_count": 11
  },
  {
   "cell_type": "code",
   "outputs": [
    {
     "name": "stdout",
     "output_type": "stream",
     "text": [
      "psnr score for trained model: 27.240066528320312 \n",
      "ssim score for trained model: 0.8813284039497375\n",
      "psnr score for base x2: 28.896934509277344 \n",
      "ssim score for base x2: 0.9075761437416077\n"
     ]
    }
   ],
   "source": [
    "pred_ims_x2 = []\n",
    "ssim_scores_x2 = []\n",
    "psnr_scores_x2 = []\n",
    "for x in X_sub:\n",
    "    y_pred = x2_model(x)\n",
    "    pred_ims_x2.append(tf.expand_dims(tr.bands_to_image(x+y_pred), axis=-1))\n",
    "\n",
    "for x, y in zip(pred_ims_x2, Y):\n",
    "    ssim_scores_x2.append(tf.image.ssim(x, y, max_val=1.0))\n",
    "    psnr_scores_x2.append(tf.image.psnr(x, y, max_val=1.0))\n",
    "avg_ssim_score_x2 = sum(ssim_scores_x2) / len(ssim_scores_x2)\n",
    "avg_psnr_score_x2 = sum(psnr_scores_x2) / len(psnr_scores_x2)\n",
    "\n",
    "print('psnr score for trained model: {} \\nssim score for trained model: {}'.format(avg_psnr_score, avg_ssim_score))\n",
    "print('psnr score for base x2: {} \\nssim score for base x2: {}'.format(avg_psnr_score_x2, avg_ssim_score_x2))\n",
    "\n",
    "# believe that the Urban100 scores is different due to changes in the original dataset since the original paper produced higher scores for PSNR and SSIM\n",
    "# Model trained by self have lower scored since they were trained on bicubic downsampled images rather than the LR dataset"
   ],
   "metadata": {
    "collapsed": false,
    "ExecuteTime": {
     "end_time": "2024-02-27T18:09:30.590818Z",
     "start_time": "2024-02-27T18:09:26.148360Z"
    }
   },
   "id": "f29fe28f66bd49ae",
   "execution_count": 12
  },
  {
   "cell_type": "markdown",
   "source": [
    "# Testing Model with Bicubic Downsampling on Arbitrary Datasets \n",
    "# (Not Accurate)"
   ],
   "metadata": {
    "collapsed": false
   },
   "id": "16f6a1688d8acdee"
  },
  {
   "cell_type": "code",
   "outputs": [],
   "source": [
    "import tensorflow as tf\n",
    "import os\n",
    "import numpy as np\n",
    "import matplotlib.pyplot as plt\n",
    "import image_to_train as tr\n",
    "from model import get_model\n",
    "import test_func as test\n",
    "\n",
    "downsample_scale = 0.5"
   ],
   "metadata": {
    "collapsed": false,
    "ExecuteTime": {
     "end_time": "2024-02-26T06:30:38.427070Z",
     "start_time": "2024-02-26T06:30:38.420294Z"
    }
   },
   "id": "eee1b6b40f0f155f",
   "execution_count": 35
  },
  {
   "cell_type": "code",
   "outputs": [],
   "source": [
    "HR_path = os.path.join('Urban 100', 'X2 Urban100', 'X2', 'HIGH X2 Urban')\n",
    "files = [os.path.join(HR_path, filename) for filename in sorted(os.listdir(HR_path))[:20]]\n",
    "# files = ['IMG_0275 2.png']"
   ],
   "metadata": {
    "collapsed": false,
    "ExecuteTime": {
     "end_time": "2024-02-26T06:39:51.607862Z",
     "start_time": "2024-02-26T06:39:51.601892Z"
    }
   },
   "id": "55b2363b4acb9e2c",
   "execution_count": 45
  },
  {
   "cell_type": "code",
   "outputs": [],
   "source": [
    "im_Y = [tf.expand_dims(test.upsample(p, scale=1), axis=-1) for p in files]\n",
    "downsample_images = [test.downsample(p, downsample_scale, batch=False) for p in files]\n",
    "downsample_sub_bands = [tf.expand_dims(tr.dwt_transform(downsample_image, channel_last=True), axis=0) for downsample_image in downsample_images]"
   ],
   "metadata": {
    "collapsed": false,
    "ExecuteTime": {
     "end_time": "2024-02-26T06:39:53.066722Z",
     "start_time": "2024-02-26T06:39:52.275749Z"
    }
   },
   "id": "397190d8afad6541",
   "execution_count": 46
  },
  {
   "cell_type": "code",
   "outputs": [
    {
     "data": {
      "text/plain": "<tensorflow.python.checkpoint.checkpoint.CheckpointLoadStatus at 0x1e8bfec80>"
     },
     "execution_count": 47,
     "metadata": {},
     "output_type": "execute_result"
    }
   ],
   "source": [
    "model_test = get_model()\n",
    "x2_model = get_model()\n",
    "x2_weight_path = os.path.join('saved_weights', 'Weightx2', 'x2.ckpt')\n",
    "\n",
    "x2_model = test.load_x2_from_weights(x2_model, x2_weight_path)\n",
    "model_test.load_weights(os.path.join('saved_weights', 'exp', '240'))"
   ],
   "metadata": {
    "collapsed": false,
    "ExecuteTime": {
     "end_time": "2024-02-26T06:39:55.024032Z",
     "start_time": "2024-02-26T06:39:54.848380Z"
    }
   },
   "id": "19d66e37d9822cfc",
   "execution_count": 47
  },
  {
   "cell_type": "code",
   "outputs": [],
   "source": [
    "model_test_pred_ims = []\n",
    "x2_pred_ims = []\n",
    "\n",
    "for x in downsample_sub_bands:\n",
    "    model_test_y_pred = model_test(x)\n",
    "    model_test_pred_ims.append(tf.expand_dims(tr.bands_to_image(x+model_test_y_pred), axis=-1))\n",
    "\n",
    "    x2_y_pred = x2_model(x)\n",
    "    x2_pred_ims.append(tf.expand_dims(tr.bands_to_image(x+x2_y_pred), axis=-1))"
   ],
   "metadata": {
    "collapsed": false,
    "ExecuteTime": {
     "end_time": "2024-02-26T06:39:57.008280Z",
     "start_time": "2024-02-26T06:39:55.833116Z"
    }
   },
   "id": "b8629c4d3c95e951",
   "execution_count": 49
  },
  {
   "cell_type": "code",
   "outputs": [
    {
     "name": "stdout",
     "output_type": "stream",
     "text": [
      "psnr score for trained model: 28.235187530517578 \n",
      "ssim score for trained model: 0.9148169755935669\n",
      "psnr score for x2 model: 23.624568939208984 \n",
      "ssim score for x2 model: 0.8414012789726257\n",
      "psnr score for bicubic: 25.59308624267578 \n",
      "ssim score for bicubic: 0.8643248677253723\n"
     ]
    }
   ],
   "source": [
    "x2_psnr_score = test.calculate_psnr(x2_pred_ims, im_Y)\n",
    "model_test_psnr_score = test.calculate_psnr(model_test_pred_ims, im_Y)\n",
    "\n",
    "x2_ssim_score = test.calculate_ssim(x2_pred_ims, im_Y)\n",
    "model_test_ssim_score = test.calculate_ssim(model_test_pred_ims, im_Y)\n",
    "\n",
    "downsample_images_channel = [tf.expand_dims(downsample_image, axis=-1) for downsample_image in downsample_images]\n",
    "baseline_score_ssim = test.calculate_ssim(downsample_images_channel, im_Y)\n",
    "baseline_score_psnr = test.calculate_psnr(downsample_images_channel, im_Y)\n",
    "\n",
    "print('psnr score for trained model: {} \\nssim score for trained model: {}'.format(\n",
    "    model_test_psnr_score, model_test_ssim_score))\n",
    "print('psnr score for x2 model: {} \\nssim score for x2 model: {}'.format(x2_psnr_score, x2_ssim_score))\n",
    "print('psnr score for bicubic: {} \\nssim score for bicubic: {}'.format(baseline_score_psnr, baseline_score_ssim))"
   ],
   "metadata": {
    "collapsed": false,
    "ExecuteTime": {
     "end_time": "2024-02-26T06:39:59.035212Z",
     "start_time": "2024-02-26T06:39:57.436929Z"
    }
   },
   "id": "ebeca3d502dc22cb",
   "execution_count": 51
  },
  {
   "cell_type": "code",
   "outputs": [],
   "source": [
    "\n",
    "test.write_images_to_path('saved_images', tf.image.encode_png())\n",
    "test.write_images_to_path('saved_images', )\n",
    "test.write_images_to_path('saved_images', )"
   ],
   "metadata": {
    "collapsed": false
   },
   "id": "517062747c917bdb"
  }
 ],
 "metadata": {
  "kernelspec": {
   "display_name": "Python 3",
   "language": "python",
   "name": "python3"
  },
  "language_info": {
   "codemirror_mode": {
    "name": "ipython",
    "version": 2
   },
   "file_extension": ".py",
   "mimetype": "text/x-python",
   "name": "python",
   "nbconvert_exporter": "python",
   "pygments_lexer": "ipython2",
   "version": "2.7.6"
  }
 },
 "nbformat": 4,
 "nbformat_minor": 5
}
