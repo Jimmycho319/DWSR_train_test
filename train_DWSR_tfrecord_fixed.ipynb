{
 "cells": [
  {
   "cell_type": "code",
   "execution_count": null,
   "metadata": {},
   "outputs": [],
   "source": [
    "import tensorflow as tf\n",
    "import os\n",
    "import numpy as np\n",
    "import matplotlib.pyplot as plt\n",
    "from model import get_model, get_loss, get_optimizer, get_cosine_optimizer, get_exp_optimizer\n",
    "import image_to_train as tr\n",
    "os.environ['TF_CPP_MIN_LOG_LEVEL'] = '2'"
   ]
  },
  {
   "cell_type": "code",
   "execution_count": null,
   "metadata": {},
   "outputs": [],
   "source": [
    "EPOCHS = 80\n",
    "CLIP_NORM = 0.01\n",
    "BATCH_SIZE = 256"
   ]
  },
  {
   "cell_type": "code",
   "execution_count": null,
   "metadata": {},
   "outputs": [],
   "source": [
    "train_path = os.path.join('DIV2K_train_HR', 'x2sub_tfrecord', 'train')\n",
    "valid_path = os.path.join('DIV2K_train_HR', 'x2sub_tfrecord', 'validation')\n",
    "train_files = [os.path.join(train_path, f) for f in os.listdir(train_path)]\n",
    "valid_files = [os.path.join(valid_path, f) for f in os.listdir(valid_path)]\n",
    "\n",
    "train_dataset = tr.read_image_from_tf(train_files[0])\n",
    "valid_dataset = tr.read_image_from_tf(valid_files[0])\n",
    "\n",
    "for train_file in train_files[1:]:\n",
    "    parsed_train = tr.read_image_from_tf(train_file)\n",
    "    train_dataset = train_dataset.concatenate(parsed_train)\n",
    "\n",
    "for valid_file in valid_files[1:]:\n",
    "    parsed_valid = tr.read_image_from_tf(valid_file)\n",
    "    valid_dataset = valid_dataset.concatenate(parsed_valid)\n",
    "\n",
    "def move_axis(image_x, image_y):\n",
    "    tr_x = tf.transpose(image_x, [1, 2, 0])\n",
    "    tr_y = tf.transpose(image_y, [1, 2, 0])\n",
    "    return tr_x, tr_y\n",
    "\n",
    "train_dataset = train_dataset.map(move_axis)\n",
    "valid_dataset = valid_dataset.map(move_axis)\n",
    "\n",
    "# larger shuffle buffer is better\n",
    "train_dataset = train_dataset.shuffle(buffer_size=20000).batch(BATCH_SIZE).prefetch(buffer_size=tf.data.AUTOTUNE)\n",
    "valid_dataset = valid_dataset.batch(BATCH_SIZE).prefetch(buffer_size=tf.data.AUTOTUNE)"
   ]
  },
  {
   "cell_type": "code",
   "execution_count": null,
   "metadata": {},
   "outputs": [],
   "source": [
    "x, y = next(train_dataset.take(1).as_numpy_iterator())\n",
    "x, y = x[0], y[0]\n",
    "tr.display_image(x)\n",
    "tr.display_image(tr.bands_to_image(x+y))"
   ]
  },
  {
   "cell_type": "code",
   "execution_count": null,
   "metadata": {},
   "outputs": [],
   "source": [
    "train_size = 0\n",
    "valid_size = 0\n",
    "\n",
    "for f in train_files:\n",
    "    d = tf.data.TFRecordDataset(f)\n",
    "    record_size = d.reduce(0, lambda x, _: x + 1).numpy()\n",
    "    train_size += record_size\n",
    "    \n",
    "for f in valid_files:\n",
    "    d = tf.data.TFRecordDataset(f)\n",
    "    record_size = d.reduce(0, lambda x, _: x + 1).numpy()\n",
    "    valid_size += record_size\n",
    "\n",
    "STEPS_PER_EPOCH = train_size // BATCH_SIZE\n",
    "TOTAL_STEPS = EPOCHS * STEPS_PER_EPOCH"
   ]
  },
  {
   "cell_type": "code",
   "execution_count": null,
   "metadata": {},
   "outputs": [],
   "source": [
    "model = get_model()\n",
    "loss = get_loss()\n",
    "optimizer = get_exp_optimizer(initial_learning_rate=0.001, decay_steps=TOTAL_STEPS, decay_rate=0.03)"
   ]
  },
  {
   "cell_type": "code",
   "execution_count": null,
   "metadata": {},
   "outputs": [],
   "source": [
    "# custom train loop\n",
    "\n",
    "valid_prog = []\n",
    "train_prog = []\n",
    "checkpoint = os.path.join('saved_weights', 'exp_new')\n",
    "if not os.path.exists(checkpoint):\n",
    "    os.mkdir(checkpoint)\n",
    "for epoch in range(EPOCHS):\n",
    "    total_train_loss = 0\n",
    "    train_batches = 0\n",
    "    loss_value = 0\n",
    "    for step, (x_batch_train, y_batch_train) in enumerate(train_dataset):\n",
    "        with tf.GradientTape() as tape:\n",
    "            predictions = model(x_batch_train, training=True)\n",
    "            loss_value = loss(y_batch_train, predictions)\n",
    "        gradients = tape.gradient(loss_value, model.trainable_variables)\n",
    "\n",
    "        # unsure if we should use norm or global norm\n",
    "        clipped_gradients, _ = tf.clip_by_global_norm(gradients, CLIP_NORM)\n",
    "        optimizer.apply_gradients(zip(clipped_gradients, model.trainable_variables))\n",
    "        \n",
    "        total_train_loss += loss_value\n",
    "        train_batches += 1\n",
    "    print(optimizer.lr.numpy())\n",
    "    # Validation loop\n",
    "    \"\"\"\n",
    "    add validation losses for PSNR and SSIM\n",
    "    \"\"\"\n",
    "    total_val_loss = 0\n",
    "    val_batches = 0\n",
    "    min_val_loss = float('inf')\n",
    "    for x_batch_val, y_batch_val in valid_dataset:\n",
    "        val_predictions = model(x_batch_val, training=False)        # unsure about training=False\n",
    "\n",
    "        val_loss = loss(y_batch_val, val_predictions)\n",
    "        total_val_loss += val_loss\n",
    "        val_batches += 1\n",
    "    \n",
    "    avg_val_loss = total_val_loss / val_batches\n",
    "    avg_train_loss = total_train_loss / train_batches\n",
    "    train_prog.append(avg_train_loss)\n",
    "    valid_prog.append(avg_val_loss)\n",
    "    if (epoch % 5 == 0 or epoch == EPOCHS - 1) and avg_val_loss < min_val_loss and epoch > 15:\n",
    "        min_val_loss = avg_val_loss\n",
    "        model.save_weights(os.path.join(checkpoint, '2'+str(epoch)))\n",
    "        \n",
    "    print(f\"Epoch {epoch + 1}, Validation Loss: {avg_val_loss.numpy()}, Train loss: {avg_train_loss.numpy()}\")"
   ]
  },
  {
   "cell_type": "code",
   "execution_count": null,
   "metadata": {},
   "outputs": [],
   "source": [
    "np.save(os.path.join('saved_images', 'exp_800_train'), train_prog)\n",
    "np.save(os.path.join('saved_images', 'exp_800_valid'), valid_prog)"
   ]
  },
  {
   "cell_type": "code",
   "execution_count": null,
   "metadata": {},
   "outputs": [],
   "source": [
    "plt.plot(valid_prog)"
   ]
  }
 ],
 "metadata": {
  "language_info": {
   "name": "python"
  }
 },
 "nbformat": 4,
 "nbformat_minor": 2
}
