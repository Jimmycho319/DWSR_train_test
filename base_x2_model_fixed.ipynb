{
 "cells": [
  {
   "cell_type": "markdown",
   "metadata": {},
   "source": [
    "# Notebook Testing Author's X2 DWSR Model Weights"
   ]
  },
  {
   "cell_type": "code",
   "execution_count": null,
   "metadata": {},
   "outputs": [],
   "source": [
    "import tensorflow as tf\n",
    "import os\n",
    "import numpy as np\n",
    "import matplotlib.pyplot as plt\n",
    "from model import get_model, get_loss, get_optimizer\n",
    "from image_to_train import bands_to_image, display_image, unpack_numpy_subimages, preprocess_single_train\n",
    "from tensorflow.python.training import py_checkpoint_reader\n",
    "import test_func as test\n",
    "import image_to_train as tr"
   ]
  },
  {
   "cell_type": "code",
   "execution_count": null,
   "metadata": {},
   "outputs": [],
   "source": [
    "# load author's DWSR weights\n",
    "x2_weight_path = os.path.join('saved_weights', 'Weightx2', 'x2.ckpt')\n",
    "model = get_model()\n",
    "x2_model = test.load_x2_from_weights(model, x2_weight_path)"
   ]
  },
  {
   "cell_type": "code",
   "execution_count": null,
   "metadata": {},
   "outputs": [],
   "source": [
    "def read_and_decode(path):\n",
    "    im = tf.io.read_file(path)\n",
    "    im = tf.image.decode_image(im, channels=3)\n",
    "    im = tf.image.convert_image_dtype(im, tf.float32)\n",
    "    return im\n",
    "\n",
    "# edit these paths to try different images\n",
    "y_path = os.path.join('Urban 100', 'X2 Urban100', 'X2', 'HIGH X2 Urban', 'img_001_SRF_2_HR.png')\n",
    "x_path = os.path.join('Urban 100', 'X2 Urban100', 'X2', 'LOW X2 Urban', 'img_001_SRF_2_LR.png')\n",
    "init_test_x = read_and_decode(x_path)\n",
    "init_test_y = read_and_decode(y_path)\n",
    "\n",
    "init_test_x = tr.preprocess_single_image(init_test_x)\n",
    "init_test_y = tr.to_luminance(init_test_y)"
   ]
  },
  {
   "cell_type": "code",
   "execution_count": null,
   "metadata": {},
   "outputs": [],
   "source": [
    "test_x = tf.transpose(init_test_x, [0, 2, 3, 1])\n",
    "test_out = x2_model(test_x)\n",
    "test_out = tf.squeeze(test_out)\n",
    "test_out = np.moveaxis(test_out, -1, 0)\n",
    "display_image(test_out, (10, 10))"
   ]
  },
  {
   "cell_type": "code",
   "execution_count": null,
   "metadata": {},
   "outputs": [],
   "source": [
    "init_test_x = tf.squeeze(init_test_x)\n",
    "lowres = bands_to_image(init_test_x)\n",
    "SR = bands_to_image(init_test_x+test_out)\n",
    "highres = tf.squeeze(init_test_y)"
   ]
  },
  {
   "cell_type": "code",
   "execution_count": null,
   "metadata": {},
   "outputs": [],
   "source": [
    "# checking PSNR\n",
    "print('PSNR lr: ',tf.image.psnr(lowres[..., tf.newaxis], highres[..., tf.newaxis], max_val=1.0).numpy())\n",
    "print('PSNR sr: ', tf.image.psnr(SR[..., tf.newaxis], highres[..., tf.newaxis], max_val=1.0).numpy())\n",
    "\n",
    "# checking SSIM\n",
    "print('ssim lr:', tf.image.ssim(lowres[..., tf.newaxis], highres[..., tf.newaxis], max_val=1.0).numpy())\n",
    "print('ssim sr:', tf.image.ssim(SR[..., tf.newaxis], highres[..., tf.newaxis], max_val=1.0).numpy())"
   ]
  },
  {
   "cell_type": "code",
   "execution_count": null,
   "metadata": {},
   "outputs": [],
   "source": [
    "# low resolution image\n",
    "tr.display_image(lowres)"
   ]
  },
  {
   "cell_type": "code",
   "execution_count": null,
   "metadata": {},
   "outputs": [],
   "source": [
    "# super-resolution image\n",
    "tr.display_image(SR)"
   ]
  },
  {
   "cell_type": "code",
   "execution_count": null,
   "metadata": {},
   "outputs": [],
   "source": [
    "# true high-resolution\n",
    "tr.display_image(init_test_y)"
   ]
  }
 ],
 "metadata": {
  "language_info": {
   "name": "python"
  }
 },
 "nbformat": 4,
 "nbformat_minor": 2
}
